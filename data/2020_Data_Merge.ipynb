{
 "cells": [
  {
   "cell_type": "code",
   "execution_count": 1,
   "metadata": {},
   "outputs": [],
   "source": [
    "import pandas as pd"
   ]
  },
  {
   "cell_type": "code",
   "execution_count": 117,
   "metadata": {},
   "outputs": [],
   "source": [
    "#Read in CSV files\n",
    "\n",
    "df_202008= pd.read_csv(\"JC-202008-citibike-tripdata.csv\")"
   ]
  },
  {
   "cell_type": "code",
   "execution_count": 118,
   "metadata": {},
   "outputs": [
    {
     "data": {
      "text/html": [
       "<div>\n",
       "<style scoped>\n",
       "    .dataframe tbody tr th:only-of-type {\n",
       "        vertical-align: middle;\n",
       "    }\n",
       "\n",
       "    .dataframe tbody tr th {\n",
       "        vertical-align: top;\n",
       "    }\n",
       "\n",
       "    .dataframe thead th {\n",
       "        text-align: right;\n",
       "    }\n",
       "</style>\n",
       "<table border=\"1\" class=\"dataframe\">\n",
       "  <thead>\n",
       "    <tr style=\"text-align: right;\">\n",
       "      <th></th>\n",
       "      <th>tripduration</th>\n",
       "      <th>starttime</th>\n",
       "      <th>stoptime</th>\n",
       "      <th>start station id</th>\n",
       "      <th>start station name</th>\n",
       "      <th>start station latitude</th>\n",
       "      <th>start station longitude</th>\n",
       "      <th>end station id</th>\n",
       "      <th>end station name</th>\n",
       "      <th>end station latitude</th>\n",
       "      <th>end station longitude</th>\n",
       "      <th>bikeid</th>\n",
       "      <th>usertype</th>\n",
       "      <th>birth year</th>\n",
       "      <th>gender</th>\n",
       "    </tr>\n",
       "  </thead>\n",
       "  <tbody>\n",
       "    <tr>\n",
       "      <th>0</th>\n",
       "      <td>561</td>\n",
       "      <td>2020-08-01 00:00:16.5960</td>\n",
       "      <td>2020-08-01 00:09:38.5610</td>\n",
       "      <td>3185</td>\n",
       "      <td>City Hall</td>\n",
       "      <td>40.717733</td>\n",
       "      <td>-74.043845</td>\n",
       "      <td>3185</td>\n",
       "      <td>City Hall</td>\n",
       "      <td>40.717733</td>\n",
       "      <td>-74.043845</td>\n",
       "      <td>42303</td>\n",
       "      <td>Customer</td>\n",
       "      <td>1994</td>\n",
       "      <td>2</td>\n",
       "    </tr>\n",
       "    <tr>\n",
       "      <th>1</th>\n",
       "      <td>236</td>\n",
       "      <td>2020-08-01 00:00:46.3900</td>\n",
       "      <td>2020-08-01 00:04:42.8890</td>\n",
       "      <td>3186</td>\n",
       "      <td>Grove St PATH</td>\n",
       "      <td>40.719586</td>\n",
       "      <td>-74.043117</td>\n",
       "      <td>3270</td>\n",
       "      <td>Jersey &amp; 6th St</td>\n",
       "      <td>40.725289</td>\n",
       "      <td>-74.045572</td>\n",
       "      <td>44989</td>\n",
       "      <td>Subscriber</td>\n",
       "      <td>1996</td>\n",
       "      <td>1</td>\n",
       "    </tr>\n",
       "    <tr>\n",
       "      <th>2</th>\n",
       "      <td>384</td>\n",
       "      <td>2020-08-01 00:02:38.9250</td>\n",
       "      <td>2020-08-01 00:09:03.7590</td>\n",
       "      <td>3186</td>\n",
       "      <td>Grove St PATH</td>\n",
       "      <td>40.719586</td>\n",
       "      <td>-74.043117</td>\n",
       "      <td>3203</td>\n",
       "      <td>Hamilton Park</td>\n",
       "      <td>40.727596</td>\n",
       "      <td>-74.044247</td>\n",
       "      <td>41696</td>\n",
       "      <td>Subscriber</td>\n",
       "      <td>1984</td>\n",
       "      <td>2</td>\n",
       "    </tr>\n",
       "    <tr>\n",
       "      <th>3</th>\n",
       "      <td>1302</td>\n",
       "      <td>2020-08-01 00:03:27.0270</td>\n",
       "      <td>2020-08-01 00:25:09.2120</td>\n",
       "      <td>3185</td>\n",
       "      <td>City Hall</td>\n",
       "      <td>40.717733</td>\n",
       "      <td>-74.043845</td>\n",
       "      <td>3185</td>\n",
       "      <td>City Hall</td>\n",
       "      <td>40.717733</td>\n",
       "      <td>-74.043845</td>\n",
       "      <td>42310</td>\n",
       "      <td>Customer</td>\n",
       "      <td>1993</td>\n",
       "      <td>1</td>\n",
       "    </tr>\n",
       "    <tr>\n",
       "      <th>4</th>\n",
       "      <td>5561</td>\n",
       "      <td>2020-08-01 00:03:57.4810</td>\n",
       "      <td>2020-08-01 01:36:38.5000</td>\n",
       "      <td>3185</td>\n",
       "      <td>City Hall</td>\n",
       "      <td>40.717733</td>\n",
       "      <td>-74.043845</td>\n",
       "      <td>3185</td>\n",
       "      <td>City Hall</td>\n",
       "      <td>40.717733</td>\n",
       "      <td>-74.043845</td>\n",
       "      <td>42346</td>\n",
       "      <td>Customer</td>\n",
       "      <td>1995</td>\n",
       "      <td>2</td>\n",
       "    </tr>\n",
       "  </tbody>\n",
       "</table>\n",
       "</div>"
      ],
      "text/plain": [
       "   tripduration                 starttime                  stoptime  \\\n",
       "0           561  2020-08-01 00:00:16.5960  2020-08-01 00:09:38.5610   \n",
       "1           236  2020-08-01 00:00:46.3900  2020-08-01 00:04:42.8890   \n",
       "2           384  2020-08-01 00:02:38.9250  2020-08-01 00:09:03.7590   \n",
       "3          1302  2020-08-01 00:03:27.0270  2020-08-01 00:25:09.2120   \n",
       "4          5561  2020-08-01 00:03:57.4810  2020-08-01 01:36:38.5000   \n",
       "\n",
       "   start station id start station name  start station latitude  \\\n",
       "0              3185          City Hall               40.717733   \n",
       "1              3186      Grove St PATH               40.719586   \n",
       "2              3186      Grove St PATH               40.719586   \n",
       "3              3185          City Hall               40.717733   \n",
       "4              3185          City Hall               40.717733   \n",
       "\n",
       "   start station longitude  end station id end station name  \\\n",
       "0               -74.043845            3185        City Hall   \n",
       "1               -74.043117            3270  Jersey & 6th St   \n",
       "2               -74.043117            3203    Hamilton Park   \n",
       "3               -74.043845            3185        City Hall   \n",
       "4               -74.043845            3185        City Hall   \n",
       "\n",
       "   end station latitude  end station longitude  bikeid    usertype  \\\n",
       "0             40.717733             -74.043845   42303    Customer   \n",
       "1             40.725289             -74.045572   44989  Subscriber   \n",
       "2             40.727596             -74.044247   41696  Subscriber   \n",
       "3             40.717733             -74.043845   42310    Customer   \n",
       "4             40.717733             -74.043845   42346    Customer   \n",
       "\n",
       "   birth year  gender  \n",
       "0        1994       2  \n",
       "1        1996       1  \n",
       "2        1984       2  \n",
       "3        1993       1  \n",
       "4        1995       2  "
      ]
     },
     "execution_count": 118,
     "metadata": {},
     "output_type": "execute_result"
    }
   ],
   "source": [
    "df_202008.head()"
   ]
  },
  {
   "cell_type": "code",
   "execution_count": 119,
   "metadata": {},
   "outputs": [
    {
     "data": {
      "text/plain": [
       "43267"
      ]
     },
     "execution_count": 119,
     "metadata": {},
     "output_type": "execute_result"
    }
   ],
   "source": [
    "len(df_202008.tripduration)"
   ]
  },
  {
   "cell_type": "code",
   "execution_count": 120,
   "metadata": {},
   "outputs": [],
   "source": [
    "#create csv file to hold all data\n",
    "df_202008.to_csv(\"2020_Master.csv\", index=False)"
   ]
  },
  {
   "cell_type": "code",
   "execution_count": 121,
   "metadata": {},
   "outputs": [],
   "source": [
    "#create list of dates \n",
    "\n",
    "months = [7, 6, 5, 4, 3, 2, 1]"
   ]
  },
  {
   "cell_type": "code",
   "execution_count": 122,
   "metadata": {},
   "outputs": [
    {
     "name": "stdout",
     "output_type": "stream",
     "text": [
      "38680\n",
      "36921\n",
      "25077\n",
      "9268\n",
      "17719\n",
      "22962\n",
      "26020\n"
     ]
    }
   ],
   "source": [
    "# loop through files\n",
    "\n",
    "for file in months:\n",
    "    \n",
    "    df = pd.read_csv(f'JC-20200{file}-citibike-tripdata.csv')\n",
    "    \n",
    "    print(len(df))\n",
    "    \n",
    "    df.to_csv('2020_Master.csv', mode='a', header=False, index=False)"
   ]
  },
  {
   "cell_type": "code",
   "execution_count": 123,
   "metadata": {},
   "outputs": [
    {
     "data": {
      "text/plain": [
       "219914"
      ]
     },
     "execution_count": 123,
     "metadata": {},
     "output_type": "execute_result"
    }
   ],
   "source": [
    "#Read in CSV files\n",
    "\n",
    "df_master= pd.read_csv(\"2020_Master.csv\")\n",
    "\n",
    "len(df_master)"
   ]
  }
 ],
 "metadata": {
  "kernelspec": {
   "display_name": "Python 3",
   "language": "python",
   "name": "python3"
  },
  "language_info": {
   "codemirror_mode": {
    "name": "ipython",
    "version": 3
   },
   "file_extension": ".py",
   "mimetype": "text/x-python",
   "name": "python",
   "nbconvert_exporter": "python",
   "pygments_lexer": "ipython3",
   "version": "3.7.6"
  }
 },
 "nbformat": 4,
 "nbformat_minor": 4
}
